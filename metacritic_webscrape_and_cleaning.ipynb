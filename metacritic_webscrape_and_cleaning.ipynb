{
 "cells": [
  {
   "cell_type": "code",
   "execution_count": 2,
   "metadata": {
    "scrolled": false
   },
   "outputs": [],
   "source": [
    "import pandas as pd\n",
    "import numpy as np\n",
    "from webscraping_metacritic import get_metacritic\n",
    "import psycopg2 as pg\n",
    "connection_args = #{fill in}\n",
    "from io import StringIO\n",
    "from tqdm import tqdm\n",
    "import re"
   ]
  },
  {
   "cell_type": "code",
   "execution_count": null,
   "metadata": {},
   "outputs": [],
   "source": [
    "## if you had anything in the retry then I would run get_metacritic()\n",
    "## on it again until i had a complete movie_details and film_cast_crew\n",
    "## dataframe\n",
    "retry_metacritic, scores_and_dates, movie_details, film_cast_crew = get_metacritic()"
   ]
  },
  {
   "cell_type": "code",
   "execution_count": null,
   "metadata": {},
   "outputs": [],
   "source": [
    "film_cast_crew.head()"
   ]
  },
  {
   "cell_type": "code",
   "execution_count": null,
   "metadata": {},
   "outputs": [],
   "source": [
    "movie_details.head()"
   ]
  },
  {
   "cell_type": "code",
   "execution_count": null,
   "metadata": {},
   "outputs": [],
   "source": [
    "scores_and_dates.head()"
   ]
  },
  {
   "cell_type": "code",
   "execution_count": null,
   "metadata": {},
   "outputs": [],
   "source": [
    "len(retry_metacritic)"
   ]
  },
  {
   "cell_type": "code",
   "execution_count": null,
   "metadata": {},
   "outputs": [],
   "source": [
    "## rather than having multiple lines for one movie, we are putting all details in one row\n",
    "## per movie to get ready to put into postgresql\n",
    "new_columns = movie_details.label.unique()\n",
    "tbl = pd.concat(\n",
    "    [movie_details.set_index(['movie_id']).groupby('label')['data'].get_group(key) for key in new_columns], \n",
    "    axis=1\n",
    ")\n",
    "tbl.columns = new_columns\n",
    "movie_details = tbl.reset_index()"
   ]
  },
  {
   "cell_type": "code",
   "execution_count": null,
   "metadata": {},
   "outputs": [],
   "source": [
    "# removing spaces from column titles\n",
    "movie_details.columns = movie_details.columns.str.replace(' ', '_')\n",
    "# making runtime into float\n",
    "movie_details.runtime = movie_details.runtime.str.replace('min', '', regex=False)\n",
    "movie_details.runtime = movie_details.runtime.str.replace('s', '', regex=False)\n",
    "movie_details.runtime = movie_details.runtime.str.strip().astype(float)"
   ]
  },
  {
   "cell_type": "code",
   "execution_count": 3,
   "metadata": {},
   "outputs": [],
   "source": [
    "def fix_rating(row):\n",
    "    \"\"\"\n",
    "    If the mpaa rating is NR then there isn't a description for the reason that it is rating that \n",
    "    or if it is foriegn of television it has no descriptor either. If the movie is MPAA \n",
    "    rated then this is to return only the rating or in worse case it returns \"Rated (rating)\"\n",
    "    \"\"\"\n",
    "    if row.movie_rating == 'NR':\n",
    "        return 'NR'\n",
    "    else:\n",
    "        return ' '.join(row.movie_rating.split(' ')[:10]).split('  ')[0].split(' ')[0]"
   ]
  },
  {
   "cell_type": "code",
   "execution_count": null,
   "metadata": {},
   "outputs": [],
   "source": [
    "mpaa_rating = movie_details.apply(lambda x: fix_rating(x), axis=1)\n",
    "movie_details.movie_rating = mpaa_rating"
   ]
  },
  {
   "cell_type": "code",
   "execution_count": null,
   "metadata": {},
   "outputs": [],
   "source": [
    "# making MPAA ratings so there won't be different values for the same rating\n",
    "movie_details.movie_rating = movie_details.movie_rating.str.replace('Not Rated', 'NR', regex=False)\n",
    "movie_details.movie_rating = movie_details.movie_rating.str.replace('Unrated', 'NR', regex=False)\n",
    "movie_details.movie_rating = movie_details.movie_rating.str.replace('PG 13', 'PG-13', regex=False)\n",
    "movie_details.movie_rating = movie_details.movie_rating.str.replace('PG - 13', 'PG-13', regex=False)\n",
    "movie_details.movie_rating = movie_details.movie_rating.str.replace('RatPG-13', 'PG-13', regex=False)\n",
    "movie_details.movie_rating = movie_details.movie_rating.str.replace('PG- 13', 'PG-13', regex=False)\n",
    "movie_details.movie_rating = movie_details.movie_rating.str.replace(':', '', regex=False).str.strip()\n",
    "movie_details.movie_rating = movie_details.movie_rating.str.replace('Rated', '', regex=False).str.strip()\n",
    "movie_details.movie_rating = movie_details.movie_rating.str.replace('for', '', regex=False).str.strip()\n",
    "movie_details.movie_rating = movie_details.movie_rating.str.replace('rated', '', regex=False).str.strip()\n",
    "movie_details.movie_rating = movie_details.movie_rating.str.replace('Rating', '', regex=False).str.strip()\n",
    "movie_details.movie_rating = movie_details.movie_rating.str.replace('(', '', regex=False).str.strip()\n",
    "movie_details.movie_rating = movie_details.movie_rating.str.replace('surrendered;', '', regex=False).str.strip()\n",
    "movie_details.movie_rating = movie_details.movie_rating.str.replace('Rate', '', regex=False).str.strip()\n",
    "movie_details.movie_rating = movie_details.movie_rating.str.replace('Symbol', '', regex=False).str.strip()\n",
    "movie_details.movie_rating = movie_details.movie_rating.fillna('NR')\n",
    "movie_details.movie_rating = movie_details.movie_rating.str.replace('-', '').str.strip()\n",
    "movie_details.movie_rating = movie_details.movie_rating.str.strip()\n",
    "\n",
    "## changing TV and foriegn ratings into MPAA equivalents\n",
    "movie_details.movie_rating = movie_details.movie_rating.str.replace('Not Rated', 'NR', regex=False)\n",
    "movie_details.movie_rating = movie_details.movie_rating.str.replace('Unrated', 'NR', regex=False)\n",
    "movie_details.movie_rating = movie_details.movie_rating.str.replace('PG 13', 'PG-13', regex=False)\n",
    "movie_details.movie_rating = movie_details.movie_rating.str.replace('PG - 13', 'PG-13', regex=False)\n",
    "movie_details.movie_rating = movie_details.movie_rating.str.replace('RatPG-13', 'PG-13', regex=False)\n",
    "movie_details.movie_rating = movie_details.movie_rating.str.replace('PG- 13', 'PG-13', regex=False)\n",
    "movie_details.movie_rating = movie_details.movie_rating.str.replace(':', '', regex=False).str.strip()\n",
    "movie_details.movie_rating = movie_details.movie_rating.str.replace('Rated', '', regex=False).str.strip()\n",
    "movie_details.movie_rating = movie_details.movie_rating.str.replace('for', '', regex=False).str.strip()\n",
    "movie_details.movie_rating = movie_details.movie_rating.str.replace('rated', '', regex=False).str.strip()\n",
    "movie_details.movie_rating = movie_details.movie_rating.str.replace('Rating', '', regex=False).str.strip()\n",
    "movie_details.movie_rating = movie_details.movie_rating.str.replace('(', '', regex=False).str.strip()\n",
    "movie_details.movie_rating = movie_details.movie_rating.str.replace('surrendered;', '', regex=False).str.strip()\n",
    "movie_details.movie_rating = movie_details.movie_rating.str.replace('Rate', '', regex=False).str.strip()\n",
    "movie_details.movie_rating = movie_details.movie_rating.str.replace('Symbol', '', regex=False).str.strip()\n",
    "movie_details.movie_rating = movie_details.movie_rating.fillna('NR')\n",
    "movie_details.movie_rating = movie_details.movie_rating.str.replace('-', '').str.strip()\n",
    "movie_details.movie_rating = movie_details.movie_rating.str.strip()\n",
    "\n",
    "# manually rating movies that didn't have their rating on metacritic \n",
    "movie_details.iloc[10385,3] = 'R'\n",
    "movie_details.iloc[10902,3] = 'R'\n",
    "movie_details.iloc[9942,3] = 'PG13'\n",
    "movie_details.iloc[13089,3] = 'PG13'\n",
    "movie_details.iloc[1122,3] = 'R'\n",
    "movie_details.iloc[4454,3] = 'PG13'\n",
    "movie_details.iloc[10037,3] = 'PG'\n",
    "movie_details.iloc[10903,3] = 'R'\n",
    "movie_details.iloc[12494,3] = 'PG13'\n",
    "movie_details.iloc[13349,3] = 'PG'\n",
    "movie_details.iloc[1546,3] = 'R'\n",
    "movie_details.iloc[6116,3] = 'R'\n",
    "movie_details.iloc[9631,3] = 'R'\n",
    "movie_details.iloc[12016,3] = 'R'\n",
    "movie_details.iloc[1745,3] = 'R'\n",
    "movie_details.iloc[1922,3] = 'PG13'\n",
    "movie_details.iloc[4763,3] = 'PG13'\n",
    "movie_details.iloc[8877,3] = 'PG13'\n",
    "movie_details.iloc[10601,3] = 'PG13'\n",
    "movie_details.iloc[12693,3] = 'PG13'\n",
    "movie_details.iloc[5969,3] = 'PG13'\n",
    "movie_details.iloc[10229,3] = 'PG13'\n",
    "movie_details.iloc[2696,3] = 'PG13'\n",
    "movie_details.iloc[8188,3] = 'PG13'\n",
    "movie_details.iloc[4320,3] = 'PG'\n",
    "movie_details.iloc[9545,3] = 'PG'\n",
    "movie_details.iloc[4401,3] = 'NR'\n",
    "movie_details.iloc[12218,3] = 'NR'\n",
    "movie_details.iloc[11277,3] = 'PG13'\n",
    "movie_details.iloc[7275,3] = 'PG'\n",
    "movie_details.iloc[12769,3] = 'PG13'\n",
    "movie_details.iloc[6765,3] = 'G'\n",
    "movie_details.iloc[3026,3] = 'R'\n",
    "movie_details.iloc[2458,3] = 'PG'\n",
    "movie_details.iloc[11891,3] = 'PG13'\n",
    "movie_details.iloc[3415,3] = 'R'"
   ]
  },
  {
   "cell_type": "code",
   "execution_count": null,
   "metadata": {},
   "outputs": [],
   "source": [
    "movie_details_pg = movie_details.drop(columns=['home_release_date', 'official_url'])"
   ]
  },
  {
   "cell_type": "code",
   "execution_count": null,
   "metadata": {},
   "outputs": [],
   "source": [
    "final = film_cast_crew"
   ]
  },
  {
   "cell_type": "code",
   "execution_count": null,
   "metadata": {},
   "outputs": [],
   "source": [
    "final = final.drop_duplicates(keep='first').sort_values('movie_id').reset_index(drop=True)\n",
    "final.data = final.data.str.replace('  ', ' ').str.strip()"
   ]
  },
  {
   "cell_type": "code",
   "execution_count": null,
   "metadata": {},
   "outputs": [],
   "source": [
    "## changing all names that have more than one webpage per a person. ex: Lil Wanye has one \n",
    "## metacritic site for his credits but he is represented Lil Wanye and Lil' Wanye \n",
    "final.data = final.data.str.replace('Yi Ching', 'Yi-Ching')\n",
    "final.data = final.data.str.replace('Lil Wayne', \"Lil' Wanye\")\n",
    "final.data = final.data.str.replace('Chô', 'Cho')\n",
    "final.data = final.data.str.replace('Dong Young', 'Dong-Young')\n",
    "final.data = final.data.str.replace('Maria Fahl Vikander', 'Maria Fahl-Vikander', regex=False)\n",
    "final.data = final.data.str.replace('Ciarán Owens', 'Ciaran Owens', regex=False)\n",
    "final.data = final.data.str.replace('Deray', 'DeRay', regex=False)\n",
    "final.data = final.data.str.replace('Ken H Keller', 'Ken H. Keller', regex=False)\n",
    "final.data = final.data.str.replace('Simon. R. Barker', 'Simon R. Barker', regex=False)\n",
    "final.data = final.data.str.replace('Adriana L Randall', 'Adriana L. Randall', regex=False)\n",
    "final.data = final.data.str.replace('Moon Sung Keun', 'Moon Sung-Keun', regex=False)\n",
    "final.data = final.data.str.replace('BD Wong', 'B.D. Wong', regex=False)\n",
    "final.data = final.data.str.replace('Gustavo Sánchez Parra', 'Gustavo Sanchez Parra', regex=False)\n",
    "final.data = final.data.str.replace('Soo Hyun Kim', 'Soo-hyun Kim', regex=False)\n",
    "final.data = final.data.str.replace('Jean De-Rivieres', 'Jean de Rivieres', regex=False)\n",
    "final.data = final.data.str.replace('Dong-hyun Kim', 'Dong Hyun Kim', regex=False)\n",
    "final.data = final.data.str.replace('Hye Jin Jang', 'Hye-jin Jang', regex=False)\n",
    "final.data = final.data.str.replace('Christopher St John', 'Christopher St. John', regex=False)\n",
    "final.data = final.data.str.replace('Bjørn Lomborg', 'Bjorn Lomborg', regex=False)\n",
    "final.data = final.data.str.replace('Young Min Kim', 'Young-min Kim', regex=False)\n",
    "final.data = final.data.str.replace('Tom Goodman Hill', 'Tom Goodman-Hill', regex=False)\n",
    "final.data = final.data.str.replace('Brian A Miller', 'Brian A. Miller', regex=False)\n",
    "final.data = final.data.str.replace('Atsurô Watabe', 'Atsuro Watabe', regex=False)\n",
    "final.data = final.data.str.replace('Hoe Jin Ha', 'Hoe-Jin Ha', regex=False)\n",
    "final.data = final.data.str.replace('Young Ju Seo', 'Young-ju Seo', regex=False)\n",
    "final.data = final.data.str.replace('Andrew Keenan Bolger', 'Andrew Keenan-Bolger', regex=False)\n",
    "final.data = final.data.str.replace('Peter Henry Arnatsiaq', 'Peter-Henry Arnatsiaq', regex=False)\n",
    "final.data = final.data.str.replace('Michael J Roberts', 'Michael J. Roberts', regex=False)\n",
    "final.data = final.data.str.replace('Lucy Jo Hudson', 'Lucy-Jo Hudson', regex=False)\n",
    "final.data = final.data.str.replace('Chi Kwong Cheung', 'Chi-Kwong Cheung', regex=False)\n",
    "final.data = final.data.str.replace('Nick Cave & The Bad Seeds', 'Nick Cave & the Bad Seeds', regex=False)\n",
    "final.data = final.data.str.replace('J.R.', 'JR', regex=False)\n",
    "final.data = final.data.str.replace('David t Hyun', 'David T. Hyun', regex=False)\n",
    "final.data = final.data.str.replace('Marie Therese Guirgis', 'Marie-Therese Guirgis', regex=False)\n",
    "final.data = final.data.str.replace('Gustavo Sanchez Parra', 'Gustavo Sanchez-Parra', regex=False)\n",
    "final.data = final.data.str.replace('Pierre Olivier Bardet', 'Pierre-Olivier Bardet', regex=False)"
   ]
  },
  {
   "cell_type": "code",
   "execution_count": null,
   "metadata": {},
   "outputs": [],
   "source": [
    "## anything without a link attached to their person is an empty data value due to the way \n",
    "## the html was read so we're getting rid of those lines\n",
    "final = final[final.link != 'https://www.metacritic.com/person?filter-options=movies'].reset_index(drop=True)"
   ]
  },
  {
   "cell_type": "code",
   "execution_count": null,
   "metadata": {},
   "outputs": [],
   "source": [
    "## putting the film details dataframe into postgres\n",
    "q_details = \"\"\"\n",
    "INSERT INTO movie_details\n",
    "(movie_id, runtime, mpaa_rating, production_companies, genres, countries, languages)\n",
    "VALUES (%s, %s, %s, %s, %s, %s, %s)\n",
    "\"\"\"\n",
    "conn = pg.connect(**connection_args)\n",
    "cur = conn.cursor()"
   ]
  },
  {
   "cell_type": "code",
   "execution_count": null,
   "metadata": {},
   "outputs": [],
   "source": [
    "for row in movie_details.itertuples():\n",
    "    cur.execute(q_details, (row[1:]))\n",
    "conn.commit()\n",
    "conn.close()"
   ]
  },
  {
   "cell_type": "code",
   "execution_count": null,
   "metadata": {},
   "outputs": [],
   "source": [
    "## putting all the cast and crew credits into postgres\n",
    "q_cast_crew = \"\"\"\n",
    "INSERT INTO cast_crew_credits (movie_id, label, person, link)\n",
    "VALUES (%s, %s, %s, %s)\"\"\""
   ]
  },
  {
   "cell_type": "code",
   "execution_count": null,
   "metadata": {},
   "outputs": [],
   "source": [
    "conn = pg.connect(**connection_args)\n",
    "cur = conn.cursor()\n",
    "for row in final.itertuples():\n",
    "    cur.execute(q, (row[1:]))\n",
    "conn.commit()\n",
    "conn.close()\n",
    "final.to_csv('final-metacritic-df.csv', index=False)"
   ]
  },
  {
   "cell_type": "code",
   "execution_count": null,
   "metadata": {},
   "outputs": [],
   "source": [
    "## putting metascore and userscore into postgres. table is setup to have\n",
    "## the id successively added in \n",
    "q_score_scores = \"\"\"\n",
    "INSERT INTO metacritic_scores (title, release_date, link, mpaa, metascore, userscore)\n",
    "VALUES (%s, %s, %s, %s, %s, %s)\"\"\""
   ]
  },
  {
   "cell_type": "code",
   "execution_count": null,
   "metadata": {},
   "outputs": [],
   "source": [
    "conn = pg.connect(**connection_args)\n",
    "cur = conn.cursor()\n",
    "for row in scores_and_dates.itertuples():\n",
    "    cur.execute(q, (row[1:]))\n",
    "conn.commit()\n",
    "conn.close()\n",
    "final.to_csv('final-metacritic-df.csv', index=False)\n",
    "scores_and_dates.to_csv('metascore.csv', index=False)"
   ]
  }
 ],
 "metadata": {
  "kernelspec": {
   "display_name": "Python 3",
   "language": "python",
   "name": "python3"
  },
  "language_info": {
   "codemirror_mode": {
    "name": "ipython",
    "version": 3
   },
   "file_extension": ".py",
   "mimetype": "text/x-python",
   "name": "python",
   "nbconvert_exporter": "python",
   "pygments_lexer": "ipython3",
   "version": "3.7.6"
  }
 },
 "nbformat": 4,
 "nbformat_minor": 4
}
